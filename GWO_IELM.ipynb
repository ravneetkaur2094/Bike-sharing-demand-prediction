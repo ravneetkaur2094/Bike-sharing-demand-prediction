{
  "nbformat": 4,
  "nbformat_minor": 0,
  "metadata": {
    "colab": {
      "provenance": []
    },
    "kernelspec": {
      "name": "python3",
      "display_name": "Python 3"
    },
    "language_info": {
      "name": "python"
    }
  },
  "cells": [
    {
      "cell_type": "code",
      "execution_count": null,
      "metadata": {
        "id": "Nu3fCdMwVkc4"
      },
      "outputs": [],
      "source": [
        "import numpy as np\n",
        "import pandas as pd\n",
        "import math\n",
        "from sklearn import svm\n",
        "from sklearn.neighbors import KNeighborsClassifier\n",
        "from sklearn.neighbors import KNeighborsRegressor\n",
        "from sklearn.metrics import confusion_matrix, accuracy_score\n",
        "from sklearn.model_selection import train_test_split\n",
        "from sklearn.preprocessing import OneHotEncoder\n",
        "from sklearn import preprocessing\n",
        "import matplotlib.pyplot as plt\n",
        "import seaborn as sns\n",
        "from GwoOptimizer import GWO"
      ]
    },
    {
      "cell_type": "code",
      "source": [
        "# Load the data\n",
        "db = pd.read_csv('london_merged.csv')\n",
        "\n",
        "db['timestamp'] = pd.to_datetime(db['timestamp'], format =\"%Y-%m-%d %H:%M:%S\")\n",
        "db['day'] = pd.to_numeric(db['timestamp'].dt.strftime('%d'))\n",
        "db['month'] = db['timestamp'].dt.month\n",
        "db['hour'] = db['timestamp'].dt.hour\n",
        "db['day_of_week'] = db['timestamp'].dt.dayofweek\n",
        "print(db.head())\n",
        "\n",
        "db['cnt_log'] = np.log1p(db['cnt'])\n",
        "sns.distplot(db['cnt_log'])\n",
        "plt.title(\"Histogram of logarithm of count of shared bikes\")\n",
        "_ = plt.ylabel('Density')\n",
        "\n",
        "db.plot(x='timestamp',y='cnt')\n",
        "plt.title('Count of bikes by date')\n",
        "plt.ylabel('Shares bikes')\n",
        "plt.show()\n",
        "\n",
        "date_start = '2015-07-09 00:00:00'\n",
        "date_end = '2015-07-09 23:00:00'\n",
        "db = db[(db['timestamp'] < date_start) | (db['timestamp'] > date_end)]\n",
        "\n",
        "date_start = '2015-08-06 00:00:00'\n",
        "date_end = '2015-08-06 23:00:00'\n",
        "db = db[(db['timestamp'] < date_start) | (db['timestamp'] > date_end)]\n",
        "db.plot(x='timestamp',y='cnt')\n",
        "plt.title('Count of bikes by date')\n",
        "plt.ylabel('Shares bikes')\n",
        "plt.show()\n",
        "\n",
        "db['weather_code'] = pd.Categorical(db['weather_code'])\n",
        "db['season'] = pd.Categorical(db['season'])\n",
        "\n",
        "weather_code = pd.get_dummies(db['weather_code'], prefix = 'weather')\n",
        "season = pd.get_dummies(db['season'], prefix = 'season')\n",
        "\n",
        "db = pd.concat([db, weather_code], axis=1)\n",
        "db = pd.concat([db, season], axis=1)\n",
        "\n",
        "db = db.drop(['t2','is_weekend','cnt','timestamp','weather_code','season'], axis = 1)\n",
        "db.head()\n",
        "\n",
        "x = db.drop(['cnt_log'], axis=1)\n",
        "y = db['cnt_log']\n",
        "\n",
        "scaler = preprocessing.MinMaxScaler()\n",
        "x = pd.DataFrame(scaler.fit_transform(x), columns = x.columns)\n"
      ],
      "metadata": {
        "id": "djugVNAzVp9T"
      },
      "execution_count": null,
      "outputs": []
    },
    {
      "cell_type": "code",
      "source": [
        "#The index corresponding to the training percent of the data is obtained\n",
        "train_percent = 0.7\n",
        "split_index = int(train_percent * len(db))\n",
        "#Data (x) and targets (y) for training and test phases are obtained\n",
        "train_x = x.iloc[:split_index].values\n",
        "test_x = x.iloc[split_index:].values\n",
        "\n",
        "train_y = y.iloc[:split_index].values\n",
        "test_y = y.iloc[split_index:].values\n",
        "\n",
        "print ('train_x shape:', train_x.shape)\n",
        "print ('train_y shape:', train_y.shape)\n",
        "print ('test_x shape:', test_x.shape)\n",
        "print ('test_y shape:', test_y.shape)\n"
      ],
      "metadata": {
        "id": "r7J7GCRiVyuv"
      },
      "execution_count": null,
      "outputs": []
    },
    {
      "cell_type": "code",
      "source": [
        "# Feature selection using GWO\n",
        "fit = GWO(fitness_function, 0, 1, num_features, 10, 20)\n",
        "selected_features = np.where(fit>0.4)[0]\n",
        "print('features',selected_features)"
      ],
      "metadata": {
        "id": "9CXLRuh4WB8b"
      },
      "execution_count": null,
      "outputs": []
    }
  ]
}